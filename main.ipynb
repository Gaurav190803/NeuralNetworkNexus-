{
 "cells": [
  {
   "cell_type": "code",
   "execution_count": 57,
   "metadata": {},
   "outputs": [],
   "source": [
    "import numpy as np\n",
    "import pandas as pd\n",
    "import sklearn as sk\n",
    "import matplotlib.pyplot as plt\n",
    "import re\n",
    "from sklearn.model_selection import train_test_split\n",
    "from sklearn.preprocessing import StandardScaler,MinMaxScaler\n",
    "from xgboost import XGBClassifier\n",
    "from sklearn.metrics import f1_score,accuracy_score,confusion_matrix\n",
    "import tensorflow as tf\n"
   ]
  },
  {
   "cell_type": "code",
   "execution_count": 58,
   "metadata": {},
   "outputs": [],
   "source": [
    "dataset1 = pd.read_csv('Leads-data.csv').drop(columns=['Agent_id']).iloc[:,[0,1,3,4,12]]\n",
    "dataset1 = dataset1.dropna(subset=[\"budget\",\"duration\"])\n",
    "indx = dataset1[dataset1[\"status\"] == 'OPPORTUNITY'].index.to_list()\n",
    "indx += dataset1[dataset1[\"status\"] == 'CONTACTED'].index.to_list()\n",
    "indx += dataset1[dataset1[\"status\"] == 'PROCESSING'].index.to_list()\n",
    "indx += dataset1[dataset1[\"status\"] == 'IMPORTANT'].index.to_list()\n",
    "dataset1 = dataset1.drop(indx)"
   ]
  },
  {
   "cell_type": "code",
   "execution_count": 59,
   "metadata": {},
   "outputs": [],
   "source": [
    "#duration preprocess\n",
    "duration_list = dataset1['duration'].to_numpy()\n",
    "dl = []\n",
    "for z in range(len(duration_list)):\n",
    "    i = duration_list[z]\n",
    "    i = i.lower()\n",
    "    y = re.findall(r'\\d+',i)\n",
    "    try:\n",
    "        last = y.pop()\n",
    "    except:\n",
    "        last = 1\n",
    "    if(bool(re.search(\"week\",i))):\n",
    "        dl.append(int(last))\n",
    "    elif(bool(re.search(\"month\",i))):\n",
    "        dl.append(int(last*4))\n",
    "    elif(bool(re.search(\"year\",i))):\n",
    "        dl.append(int(last*52))\n",
    "    elif(bool(re.search(\"sem\",i))):\n",
    "        dl.append(int(26))\n",
    "    else:\n",
    "        try:\n",
    "            i = int(i)\n",
    "            if(i == 0):\n",
    "                dl.append(np.nan)\n",
    "                continue\n",
    "            dl.append(i)\n",
    "            \n",
    "        except:\n",
    "            #drop these rows\n",
    "            dl.append(np.nan)\n",
    "    "
   ]
  },
  {
   "cell_type": "code",
   "execution_count": 60,
   "metadata": {},
   "outputs": [],
   "source": [
    "#budget pre process\n",
    "budget_list = dataset1[\"budget\"].values\n",
    "bl = []\n",
    "for i in budget_list:\n",
    "    if(pd.isna(i)):\n",
    "        bl.append(i)\n",
    "        continue\n",
    "    y = re.findall(r'\\d+',i)\n",
    "    try:\n",
    "        last = y.pop()\n",
    "        if(int(last) == 0):\n",
    "            bl.append(np.nan)\n",
    "            continue\n",
    "    except:\n",
    "        #drop row\n",
    "        pass\n",
    "    bl.append(int(last))"
   ]
  },
  {
   "cell_type": "code",
   "execution_count": 61,
   "metadata": {},
   "outputs": [],
   "source": [
    "room_type_list = dataset1[\"room_type\"].to_numpy()\n",
    "rt = []\n",
    "keys = {'Ensuite':1, np.nan:0, 'Entire Place':3, 'Studio':2, 'Twin-Studio':5,'Non-Ensuite':4}\n",
    "for i in range(0 , len(room_type_list)):\n",
    "    z = room_type_list[i]\n",
    "    rt.append(keys[z])"
   ]
  },
  {
   "cell_type": "code",
   "execution_count": 62,
   "metadata": {},
   "outputs": [],
   "source": [
    "status_list = dataset1[\"status\"].to_numpy()\n",
    "st = []\n",
    "keys = {\"LOST\":0,\"WON\":1}\n",
    "for i in range(0 , len(status_list)):\n",
    "    z = status_list[i]\n",
    "    st.append(keys[z])"
   ]
  },
  {
   "cell_type": "code",
   "execution_count": 63,
   "metadata": {},
   "outputs": [],
   "source": [
    "data = {\"status\":st,\"budget\":bl,\"duration\":dl,\"room_type\":rt}\n",
    "data_frame = pd.DataFrame(data)\n",
    "data_frame.dropna(inplace = True)\n"
   ]
  },
  {
   "cell_type": "code",
   "execution_count": 64,
   "metadata": {},
   "outputs": [],
   "source": [
    "x_data = data_frame.iloc[:,1:].values\n",
    "y_data = data_frame.iloc[:,0].values.reshape(-1,1)"
   ]
  },
  {
   "cell_type": "code",
   "execution_count": 65,
   "metadata": {},
   "outputs": [],
   "source": [
    "x_train,x_test,y_train,y_test = train_test_split(x_data,y_data,test_size = 0.1,random_state=42)"
   ]
  },
  {
   "cell_type": "code",
   "execution_count": 66,
   "metadata": {},
   "outputs": [],
   "source": [
    "sc = StandardScaler()\n",
    "x_train[:,0:2] = sc.fit_transform(x_train[:,0:2])\n",
    "x_test[:,0:2] = sc.transform(x_test[:,0:2])\n",
    "\n",
    "mms = MinMaxScaler()\n",
    "x_train[:,2] = mms.fit_transform(x_train[:,2].reshape(-1,1)).reshape(1,-1)\n",
    "x_test[:,2] = mms.transform(x_test[:,2].reshape(-1,1)).reshape(1,-1)"
   ]
  },
  {
   "cell_type": "code",
   "execution_count": 67,
   "metadata": {},
   "outputs": [],
   "source": [
    "# from sklearn.utils import resample\n",
    "# train = np.concatenate([x_train,y_train],axis=1)\n",
    "# train = pd.DataFrame(train)\n",
    "# zeros = train[train[3] == 0]\n",
    "# ones = train[train[3] == 1]\n",
    "# ones_up = resample(ones, replace=True, n_samples=len(zeros))\n",
    "# ones_up\n",
    "# Upsampling block for class imbalances"
   ]
  },
  {
   "cell_type": "code",
   "execution_count": 68,
   "metadata": {},
   "outputs": [],
   "source": [
    "# train = np.concatenate([x_train,y_train],axis=1)\n",
    "# train = pd.DataFrame(train)\n",
    "# zeros = train[train[3] == 0]\n",
    "# ones = train[train[3] == 1]\n",
    "# zeros_down = resample(zeros, replace=True, n_samples=len(ones))\n",
    "# zeros_down\n",
    "# Downsampling block for class imbalances"
   ]
  },
  {
   "cell_type": "code",
   "execution_count": 69,
   "metadata": {},
   "outputs": [],
   "source": [
    "# train_down = np.concatenate([zeros_down,ones])\n",
    "# np.random.shuffle(train_down)\n",
    "# new2_xtrain = train_down[:,:-1]\n",
    "# new2_ytrain = train_down[:,-1]\n",
    "# Combining the downsampled data and shuffling it"
   ]
  },
  {
   "cell_type": "code",
   "execution_count": 79,
   "metadata": {},
   "outputs": [],
   "source": [
    "ann  = tf.keras.models.Sequential([tf.keras.layers.Dense(128,activation = \"relu\"),\n",
    "                                   tf.keras.layers.Dense(64,activation = \"relu\"),\n",
    "                                   tf.keras.layers.Dense(64,activation = \"relu\"),\n",
    "                                   tf.keras.layers.Dense(32,activation = \"relu\"),\n",
    "                                   tf.keras.layers.Dense(1,activation = \"sigmoid\")])\n"
   ]
  },
  {
   "cell_type": "code",
   "execution_count": 80,
   "metadata": {},
   "outputs": [],
   "source": [
    "ann.compile(loss = \"mse\",optimizer = \"adam\",metrics = [\"accuracy\"])"
   ]
  },
  {
   "cell_type": "code",
   "execution_count": 81,
   "metadata": {},
   "outputs": [
    {
     "name": "stdout",
     "output_type": "stream",
     "text": [
      "Epoch 1/10\n",
      "881/881 [==============================] - 4s 4ms/step - loss: 0.5059 - accuracy: 0.7965\n",
      "Epoch 2/10\n",
      "881/881 [==============================] - 4s 4ms/step - loss: 0.5000 - accuracy: 0.7766\n",
      "Epoch 3/10\n",
      "881/881 [==============================] - 3s 4ms/step - loss: 0.4987 - accuracy: 0.7869\n",
      "Epoch 4/10\n",
      "881/881 [==============================] - 3s 4ms/step - loss: 0.4973 - accuracy: 0.7814\n",
      "Epoch 5/10\n",
      "881/881 [==============================] - 3s 4ms/step - loss: 0.4969 - accuracy: 0.7829\n",
      "Epoch 6/10\n",
      "881/881 [==============================] - 3s 4ms/step - loss: 0.4983 - accuracy: 0.7758\n",
      "Epoch 7/10\n",
      "881/881 [==============================] - 4s 4ms/step - loss: 0.4980 - accuracy: 0.7767\n",
      "Epoch 8/10\n",
      "881/881 [==============================] - 4s 4ms/step - loss: 0.4969 - accuracy: 0.7718\n",
      "Epoch 9/10\n",
      "881/881 [==============================] - 3s 4ms/step - loss: 0.4964 - accuracy: 0.7774\n",
      "Epoch 10/10\n",
      "881/881 [==============================] - 3s 4ms/step - loss: 0.4961 - accuracy: 0.7468\n"
     ]
    }
   ],
   "source": [
    "class_weights = {0:(28171*1.115)/25824,1:(28171)/2347}\n",
    "\n",
    "history = ann.fit(np.asarray(x_train[:,:]).astype(np.float32),np.asarray(y_train).astype(np.float32),epochs = 10,class_weight = class_weights)"
   ]
  },
  {
   "cell_type": "code",
   "execution_count": 82,
   "metadata": {},
   "outputs": [
    {
     "data": {
      "text/plain": [
       "array([[2360,  508],\n",
       "       [ 170,   93]], dtype=int64)"
      ]
     },
     "execution_count": 82,
     "metadata": {},
     "output_type": "execute_result"
    }
   ],
   "source": [
    "y_pred = ann.predict(np.asarray(x_test).astype(np.float32))\n",
    "y_pred = np.squeeze(np.round(y_pred).astype(int).reshape(1,-1))\n",
    "confusion_matrix(np.squeeze(y_test.reshape(1,-1)),y_pred)"
   ]
  },
  {
   "cell_type": "code",
   "execution_count": 77,
   "metadata": {},
   "outputs": [
    {
     "data": {
      "text/plain": [
       "(0.7719578409453849, 0.2205240174672489)"
      ]
     },
     "execution_count": 77,
     "metadata": {},
     "output_type": "execute_result"
    }
   ],
   "source": [
    "ann2 = tf.keras.models.load_model(\"best.h5\")\n",
    "y_pred = ann2.predict(np.asarray(x_test).astype(np.float32))\n",
    "y_pred = np.squeeze(np.round(y_pred).astype(int).reshape(1,-1))\n",
    "accuracy_score(np.squeeze(y_test.reshape(1,-1)),y_pred),f1_score(np.squeeze(y_test.reshape(1,-1)),y_pred)"
   ]
  },
  {
   "cell_type": "code",
   "execution_count": null,
   "metadata": {},
   "outputs": [
    {
     "data": {
      "text/plain": [
       "['mms_scaler.bin']"
      ]
     },
     "execution_count": 42,
     "metadata": {},
     "output_type": "execute_result"
    }
   ],
   "source": [
    "from joblib import dump, load\n",
    "dump(sc, 'std_scaler.bin', compress=True)\n",
    "dump(mms, 'mms_scaler.bin', compress=True)"
   ]
  },
  {
   "cell_type": "code",
   "execution_count": null,
   "metadata": {},
   "outputs": [],
   "source": [
    "sc=load('std_scaler.bin')"
   ]
  },
  {
   "cell_type": "code",
   "execution_count": null,
   "metadata": {},
   "outputs": [],
   "source": []
  }
 ],
 "metadata": {
  "kernelspec": {
   "display_name": "Python 3",
   "language": "python",
   "name": "python3"
  },
  "language_info": {
   "codemirror_mode": {
    "name": "ipython",
    "version": 3
   },
   "file_extension": ".py",
   "mimetype": "text/x-python",
   "name": "python",
   "nbconvert_exporter": "python",
   "pygments_lexer": "ipython3",
   "version": "3.9.13"
  },
  "orig_nbformat": 4
 },
 "nbformat": 4,
 "nbformat_minor": 2
}
